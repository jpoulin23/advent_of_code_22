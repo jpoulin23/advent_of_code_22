{
 "cells": [
  {
   "cell_type": "code",
   "execution_count": null,
   "id": "da060002-1ba0-436c-9ef2-8472bbcb5e94",
   "metadata": {},
   "outputs": [],
   "source": [
    "import string"
   ]
  },
  {
   "cell_type": "markdown",
   "id": "657358d7-bca1-4002-a098-d1eb951f46ec",
   "metadata": {},
   "source": [
    "# Day 1\n",
    "#### Find the Elf carrying the most Calories. How many total Calories is that Elf carrying?"
   ]
  },
  {
   "cell_type": "code",
   "execution_count": 3,
   "id": "78b1a777-fc31-4421-a3ca-dc778013219f",
   "metadata": {},
   "outputs": [
    {
     "name": "stdout",
     "output_type": "stream",
     "text": [
      "10062\n",
      "1565\n"
     ]
    }
   ],
   "source": [
    "with open('22_aoc_d1.txt') as f:\n",
    "    calories_str = f.read()\n",
    "print(calories_str[:10])"
   ]
  },
  {
   "cell_type": "code",
   "execution_count": 21,
   "id": "8cf4318e-db65-4ac9-a8d1-391660b7e634",
   "metadata": {},
   "outputs": [
    {
     "name": "stdout",
     "output_type": "stream",
     "text": [
      "247\n"
     ]
    },
    {
     "data": {
      "text/plain": [
       "['10062', '15651', '1271', '14355', '7220']"
      ]
     },
     "execution_count": 21,
     "metadata": {},
     "output_type": "execute_result"
    }
   ],
   "source": [
    "calories_split = [cal.split('\\n') for cal in calories_str.split('\\n\\n')]\n",
    "print(len(calories_split))\n",
    "calories_split[0]"
   ]
  },
  {
   "cell_type": "code",
   "execution_count": 15,
   "id": "d1ba8a95-77c8-4409-b11e-5707c93e8cec",
   "metadata": {},
   "outputs": [
    {
     "name": "stdout",
     "output_type": "stream",
     "text": [
      "247\n"
     ]
    },
    {
     "data": {
      "text/plain": [
       "70613"
      ]
     },
     "execution_count": 15,
     "metadata": {},
     "output_type": "execute_result"
    }
   ],
   "source": [
    "total_cals = []\n",
    "for elf_food in calories_split:\n",
    "    total_cals.append(sum(int(calories) for calories in elf_food if calories))\n",
    "max(total_cals)"
   ]
  },
  {
   "cell_type": "markdown",
   "id": "bcff5423-f107-4281-a047-51ebd03168e5",
   "metadata": {},
   "source": [
    "#### Find the top three Elves carrying the most Calories. How many Calories are those Elves carrying in total?"
   ]
  },
  {
   "cell_type": "code",
   "execution_count": 20,
   "id": "3b191dba-8b49-4af4-baf5-bbbdecc470ad",
   "metadata": {},
   "outputs": [
    {
     "name": "stdout",
     "output_type": "stream",
     "text": [
      "[70613, 68330, 66862]\n"
     ]
    },
    {
     "data": {
      "text/plain": [
       "205805"
      ]
     },
     "execution_count": 20,
     "metadata": {},
     "output_type": "execute_result"
    }
   ],
   "source": [
    "top_3 = sorted(total_cals, reverse=True)[:3]\n",
    "print(top_3)\n",
    "sum(top_3)"
   ]
  },
  {
   "cell_type": "markdown",
   "id": "13c86c0b-f662-439a-a853-041fe3981700",
   "metadata": {},
   "source": [
    "# Day 2"
   ]
  },
  {
   "cell_type": "markdown",
   "id": "7fa217ce-1513-4d47-bbd1-9c46466c5e56",
   "metadata": {},
   "source": [
    "col 1: A for Rock, B for Paper, and C for Scissors\n",
    "\n",
    "col 2: X for Rock, Y for Paper, and Z for Scissors\n",
    "\n",
    "Your total score is the sum of your scores for each round. The score for a single round is the score for the shape you selected (1 for Rock, 2 for Paper, and 3 for Scissors) plus the score for the outcome of the round (0 if you lost, 3 if the round was a draw, and 6 if you won)\n",
    "\n",
    "\n",
    "#### What would your total score be if everything goes exactly according to your strategy guide?\n"
   ]
  },
  {
   "cell_type": "code",
   "execution_count": 27,
   "id": "820d7661-29de-4e1a-821f-3737c2a446e2",
   "metadata": {},
   "outputs": [
    {
     "data": {
      "text/plain": [
       "['C Y', 'C Z', 'B Z', 'A Z', 'A Z']"
      ]
     },
     "execution_count": 27,
     "metadata": {},
     "output_type": "execute_result"
    }
   ],
   "source": [
    "with open('aoc_22_d2.txt') as f:\n",
    "    strat_guide = f.read().split('\\n')\n",
    "strat_guide[:5]"
   ]
  },
  {
   "cell_type": "code",
   "execution_count": 33,
   "id": "9877f14b-b430-4b27-9b7c-8adf7ce4b243",
   "metadata": {},
   "outputs": [
    {
     "name": "stdout",
     "output_type": "stream",
     "text": [
      "[2, 6, 9, 3, 3]\n"
     ]
    },
    {
     "data": {
      "text/plain": [
       "13526"
      ]
     },
     "execution_count": 33,
     "metadata": {},
     "output_type": "execute_result"
    }
   ],
   "source": [
    "# Total score outcomes for draw, win, loss\n",
    "combinations = {'A X': 3, 'B Y': 3, 'C Z': 3,\n",
    "                'A Y': 6, 'B Z': 6, 'C X': 6,\n",
    "                'A Z': 0, 'B X': 0, 'C Y': 0}\n",
    "\n",
    "def get_score(one_round):\n",
    "    \"\"\"Returns total score of round result (win, loss, draw) plus score for chosen play (rock - 1/paper - 2/scissors- 3)\"\"\"\n",
    "    conversions = {'X': 1, 'Y': 2, 'Z': 3}\n",
    "    return conversions.get(one_round[-1]) + combinations.get(one_round)\n",
    "\n",
    "round_scores = [get_score(r) for r in strat_guide if r]\n",
    "print(round_scores[:5])\n",
    "sum(round_scores)"
   ]
  },
  {
   "cell_type": "markdown",
   "id": "bcc9a16d-bf28-46d4-a3dc-2a76b923021e",
   "metadata": {},
   "source": [
    "X means you need to lose, Y means you need to end the round in a draw, and Z means you need to win\n",
    "#### Following the Elf's instructions for the second column, what would your total score be if everything goes exactly according to your strategy guide?"
   ]
  },
  {
   "cell_type": "code",
   "execution_count": 34,
   "id": "45eb7e2d-551a-479e-b25f-9d3d6d7e9cac",
   "metadata": {},
   "outputs": [
    {
     "name": "stdout",
     "output_type": "stream",
     "text": [
      "[6, 7, 9, 8, 8]\n"
     ]
    },
    {
     "data": {
      "text/plain": [
       "14204"
      ]
     },
     "execution_count": 34,
     "metadata": {},
     "output_type": "execute_result"
    }
   ],
   "source": [
    "# Returns score for desired play based on the opponent's input\n",
    "# e.g. X = need to lose, opponent plays Rock (A): \n",
    "# you must play scissors to lose which is worth 3 points to the total score\n",
    "guide = {'X': {'A': 3, 'B': 1, 'C': 2},\n",
    "         'Y': {'A': 1, 'B': 2, 'C': 3},\n",
    "         'Z': {'A': 2, 'B': 3, 'C': 1}}\n",
    "\n",
    "def get_score_modified(one_round):\n",
    "    \"\"\"\n",
    "    Returns total score for result according to the strategy guide (win/lose/draw)\n",
    "    plus the score of resulting play you must choose (rock/paper/scissors)\n",
    "    \"\"\"\n",
    "    opponent, result = one_round.split(' ')\n",
    "    conversions = {'X': 0, 'Y': 3, 'Z': 6}\n",
    "    return conversions.get(result) + guide.get(result).get(opponent)\n",
    "\n",
    "round_scores_modified = [get_score_modified(r) for r in strat_guide if r]\n",
    "print(round_scores_modified[:5])\n",
    "sum(round_scores_modified)"
   ]
  },
  {
   "cell_type": "markdown",
   "id": "4025ef45-b699-4dc2-92eb-6b703d4e467e",
   "metadata": {},
   "source": [
    "# Day 3"
   ]
  },
  {
   "cell_type": "markdown",
   "id": "99dd96ad-a27f-44f2-bcb6-2c22064c8c17",
   "metadata": {},
   "source": [
    "Lowercase item types a through z have priorities 1 through 26.\n",
    "Uppercase item types A through Z have priorities 27 through 52."
   ]
  },
  {
   "cell_type": "code",
   "execution_count": 37,
   "id": "a27d2ca5-1c54-4d8a-a67d-a9fa999193f7",
   "metadata": {},
   "outputs": [
    {
     "data": {
      "text/plain": [
       "['gtZDjBcmpcDgpZcmmbgtdtqmCGVCGGsvhCFCCqvmCMMM',\n",
       " 'JrhfzfLTNfJhPnhQnfzHfCFFQFSGvMFCGQFsQSMSVs',\n",
       " 'TllTRrfNNlfzwhtZBZgtRDBp',\n",
       " 'vMdwjZdjwjvjdTZZvCcQMGnQMQcbcgLLCL',\n",
       " 'rsVhfmssPWzDVGCLJSbCgPLSQG']"
      ]
     },
     "execution_count": 37,
     "metadata": {},
     "output_type": "execute_result"
    }
   ],
   "source": [
    "with open('aoc_22_d3.txt') as f:\n",
    "    items = f.read().split('\\n')\n",
    "items[:5]"
   ]
  },
  {
   "cell_type": "code",
   "execution_count": 110,
   "id": "77b3722d-dfc8-4e23-b91b-4e52a86604f6",
   "metadata": {},
   "outputs": [
    {
     "data": {
      "text/plain": [
       "['m', 'Q', 'R', 'M', 'P']"
      ]
     },
     "execution_count": 110,
     "metadata": {},
     "output_type": "execute_result"
    }
   ],
   "source": [
    "def identify_common_letter(rucksack):\n",
    "    \"\"\"\n",
    "    splits the rucksack into two equal compartments and \n",
    "    returns the single overlapping letter in each\n",
    "    \"\"\"\n",
    "    compartment_1 = set(rucksack[:len(rucksack)//2])\n",
    "    compartment_2 = set(rucksack[len(rucksack)//2:])\n",
    "    return list(compartment_1.intersection(compartment_2))[0]\n",
    "\n",
    "common_items = [identify_common_letter(rucksack) for rucksack in items if rucksack]\n",
    "common_items[:5]"
   ]
  },
  {
   "cell_type": "code",
   "execution_count": 79,
   "id": "33e279b8-52b2-4573-860a-5b25f413df84",
   "metadata": {},
   "outputs": [
    {
     "data": {
      "text/plain": [
       "8394"
      ]
     },
     "execution_count": 79,
     "metadata": {},
     "output_type": "execute_result"
    }
   ],
   "source": [
    "# letter to number priority dictionary for conversions (a-1, b-2, ...)\n",
    "num_conversions = {letter: number for letter, number in zip(string.ascii_letters, range(1,53))}\n",
    "sum(num_conversions.get(item) for item in common_items)"
   ]
  },
  {
   "cell_type": "code",
   "execution_count": 109,
   "id": "1589c8ca-a4a6-4c81-b924-b2457283c468",
   "metadata": {},
   "outputs": [
    {
     "data": {
      "text/plain": [
       "2413"
      ]
     },
     "execution_count": 109,
     "metadata": {},
     "output_type": "execute_result"
    }
   ],
   "source": [
    "unique_items = [set(rucksack) for rucksack in items if rucksack]\n",
    "\n",
    "common_items_g3 = []\n",
    "for idx in range(0, len(unique_items), 3):\n",
    "    g_1 = unique_items[idx]\n",
    "    g_2 = unique_items[idx+1]\n",
    "    g_3 = unique_items[idx+2]\n",
    "    common_items_g3.append(list(g_1.intersection(g_2).intersection(g_3))[0])\n",
    "\n",
    "sum(num_conversions.get(letter) for letter in common_items_g3)"
   ]
  },
  {
   "cell_type": "markdown",
   "id": "ab68528d-90a1-4269-8141-0703b5cbbe9c",
   "metadata": {},
   "source": [
    "# Day 4"
   ]
  },
  {
   "cell_type": "code",
   "execution_count": 117,
   "id": "cd0171be-c258-4e34-a629-631ec7c3e45c",
   "metadata": {},
   "outputs": [
    {
     "data": {
      "text/plain": [
       "['21-82,22-81', '46-47,21-47', '7-88,27-89', '37-38,33-42', '5-99,51-99']"
      ]
     },
     "execution_count": 117,
     "metadata": {},
     "output_type": "execute_result"
    }
   ],
   "source": [
    "with open('aoc_22_d4.txt') as f:\n",
    "    items = f.read().split('\\n')[:-1]\n",
    "items[:5]"
   ]
  },
  {
   "cell_type": "code",
   "execution_count": 164,
   "id": "f9e49f77-05b1-4586-901a-d14f29d6dddb",
   "metadata": {},
   "outputs": [
    {
     "data": {
      "text/plain": [
       "605"
      ]
     },
     "execution_count": 164,
     "metadata": {},
     "output_type": "execute_result"
    }
   ],
   "source": [
    "def is_subset(range_1, range_2):\n",
    "    \"\"\"iterates through ranges to see if either is a subset of the other\"\"\"\n",
    "    return all(number in range(*range_1) for number in range(*range_2)) or all(number in range(*range_2) for number in range(*range_1))\n",
    "\n",
    "def parse_ranges(ranges):\n",
    "    \"\"\"converts string ranges to sets of ints\"\"\"\n",
    "    def convert_to_int(rnge):\n",
    "        start, stop = (int(r) for r in rnge.split('-'))\n",
    "        return (start, stop+1)\n",
    "    range_1, range_2 = ranges.split(',')\n",
    "    return (convert_to_int(range_1), convert_to_int(range_2))\n",
    "\n",
    "result_list = []\n",
    "for ranges in items:\n",
    "    range_1, range_2 = parse_ranges(ranges)\n",
    "    result_list.append(is_subset(range_1, range_2))\n",
    "\n",
    "sum(result_list)"
   ]
  },
  {
   "cell_type": "markdown",
   "id": "8f2a6a4b-65fd-498f-ad80-95e2a86c3efc",
   "metadata": {},
   "source": [
    "Part 2"
   ]
  },
  {
   "cell_type": "code",
   "execution_count": 169,
   "id": "1117d702-b1e4-4ffa-9898-57f7b6e019a1",
   "metadata": {},
   "outputs": [
    {
     "data": {
      "text/plain": [
       "914"
      ]
     },
     "execution_count": 169,
     "metadata": {},
     "output_type": "execute_result"
    }
   ],
   "source": [
    "def is_overlap(range_1, range_2):\n",
    "    \"\"\"iterates through ranges to see if any numbers overlap with the other\"\"\"\n",
    "    return any(number in range(*range_1) for number in range(*range_2))\n",
    "\n",
    "overlap_list = []\n",
    "for ranges in items:\n",
    "    range_1, range_2 = parse_ranges(ranges)\n",
    "    overlap_list.append(is_overlap(range_1, range_2))\n",
    "\n",
    "sum(overlap_list)"
   ]
  }
 ],
 "metadata": {
  "kernelspec": {
   "display_name": "Python 3 (ipykernel)",
   "language": "python",
   "name": "python3"
  },
  "language_info": {
   "codemirror_mode": {
    "name": "ipython",
    "version": 3
   },
   "file_extension": ".py",
   "mimetype": "text/x-python",
   "name": "python",
   "nbconvert_exporter": "python",
   "pygments_lexer": "ipython3",
   "version": "3.9.7"
  }
 },
 "nbformat": 4,
 "nbformat_minor": 5
}
