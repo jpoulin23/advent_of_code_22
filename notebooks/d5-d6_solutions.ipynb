{
 "cells": [
  {
   "cell_type": "markdown",
   "id": "557cf0b4-92f2-45c7-90be-3a1e562f4e85",
   "metadata": {},
   "source": [
    "# Day 5"
   ]
  },
  {
   "cell_type": "markdown",
   "id": "86d40753-7c28-441d-aaad-7797e78b1393",
   "metadata": {},
   "source": [
    "#### Parse file"
   ]
  },
  {
   "cell_type": "code",
   "execution_count": 70,
   "id": "f6e601b3-cd8c-46e1-b0c2-b72e338fdbbb",
   "metadata": {},
   "outputs": [],
   "source": [
    "with open('aoc_22_d5.txt') as f:\n",
    "    stacks, steps = f.read().split('\\n\\n')"
   ]
  },
  {
   "cell_type": "code",
   "execution_count": 74,
   "id": "c094edd0-f0b3-4f68-b64a-b2ca3b253277",
   "metadata": {},
   "outputs": [
    {
     "data": {
      "text/plain": [
       "['[J]             [F] [M]            ',\n",
       " '[Z] [F]     [G] [Q] [F]            ',\n",
       " '[G] [P]     [H] [Z] [S] [Q]        ',\n",
       " '[V] [W] [Z] [P] [D] [G] [P]        ',\n",
       " '[T] [D] [S] [Z] [N] [W] [B] [N]    ',\n",
       " '[D] [M] [R] [J] [J] [P] [V] [P] [J]',\n",
       " '[B] [R] [C] [T] [C] [V] [C] [B] [P]',\n",
       " '[N] [S] [V] [R] [T] [N] [G] [Z] [W]',\n",
       " ' 1   2   3   4   5   6   7   8   9 ']"
      ]
     },
     "execution_count": 74,
     "metadata": {},
     "output_type": "execute_result"
    }
   ],
   "source": [
    "stacks.split('\\n')"
   ]
  },
  {
   "cell_type": "code",
   "execution_count": 75,
   "id": "e747d5ce-44e2-4fe2-8208-f6de7c107867",
   "metadata": {},
   "outputs": [],
   "source": [
    "def parse_stacks(stacks):\n",
    "    \"\"\"parses raw string into list of stacks with location based matching (empty spots hold empty string)\"\"\"\n",
    "    stacks = stacks.split('\\n')\n",
    "    stacks.reverse()\n",
    "    parsed_stacks = []\n",
    "    for stack in stacks[1:]:\n",
    "        split_stack = stack.replace('    ', ' [] ').replace(' ', '').split('][')\n",
    "        parsed_stacks.append([stack.replace('[', '').replace(']', '') for stack in split_stack])\n",
    "    return parsed_stacks\n",
    "\n",
    "def get_ordered_stacks(parsed_stacks, num_stacks):\n",
    "    \"\"\"\n",
    "    returns dictionary of initial setup of boxes. get \n",
    "    parsed_stacks from  from parse_stacks funciton\n",
    "    \"\"\"\n",
    "    stacks_dict = dict()\n",
    "    for stack_num in range(num_stacks):\n",
    "        stack = [s[stack_num] for s in parsed_stacks]\n",
    "        stack = [item for item in stack if item]\n",
    "        stacks_dict[stack_num+1] = stack\n",
    "    return stacks_dict"
   ]
  },
  {
   "cell_type": "code",
   "execution_count": 111,
   "id": "ead4e7f3-8e7e-42d3-964f-d91760957ef9",
   "metadata": {},
   "outputs": [
    {
     "data": {
      "text/plain": [
       "{1: ['N', 'B', 'D', 'T', 'V', 'G', 'Z', 'J'],\n",
       " 2: ['S', 'R', 'M', 'D', 'W', 'P', 'F'],\n",
       " 3: ['V', 'C', 'R', 'S', 'Z'],\n",
       " 4: ['R', 'T', 'J', 'Z', 'P', 'H', 'G'],\n",
       " 5: ['T', 'C', 'J', 'N', 'D', 'Z', 'Q', 'F'],\n",
       " 6: ['N', 'V', 'P', 'W', 'G', 'S', 'F', 'M'],\n",
       " 7: ['G', 'C', 'V', 'B', 'P', 'Q'],\n",
       " 8: ['Z', 'B', 'P', 'N'],\n",
       " 9: ['W', 'P', 'J']}"
      ]
     },
     "execution_count": 111,
     "metadata": {},
     "output_type": "execute_result"
    }
   ],
   "source": [
    "parsed_stacks = parse_stacks(stacks)\n",
    "stack_piles = get_ordered_stacks(parsed_stacks, 9)\n",
    "stack_piles"
   ]
  },
  {
   "cell_type": "code",
   "execution_count": 88,
   "id": "8e775233-53c6-4b5b-bc73-19adc40b5c09",
   "metadata": {},
   "outputs": [
    {
     "data": {
      "text/plain": [
       "[[2, 4, 6], [1, 9, 5], [3, 2, 4], [8, 4, 7], [2, 9, 7]]"
      ]
     },
     "execution_count": 88,
     "metadata": {},
     "output_type": "execute_result"
    }
   ],
   "source": [
    "def parse_steps(steps):\n",
    "    \"\"\"\n",
    "    parses the string formatted steps into a list of numbers\n",
    "    in the following order: [number of boxes to move, from stack, to stack]\n",
    "    \"\"\"\n",
    "    steps = steps.split('\\n')\n",
    "    steps.remove('')\n",
    "    parsed_steps = []\n",
    "    for step in steps:\n",
    "        parsed = step.replace('move ', '').replace(' from ', 'split').replace(' to ', 'split').split('split')\n",
    "        parsed_steps.append([int(num) for num in parsed])\n",
    "    return parsed_steps\n",
    "parsed_steps = parse_steps(steps)\n",
    "parsed_steps[:5]"
   ]
  },
  {
   "cell_type": "markdown",
   "id": "77853c5f-6a24-4403-a00a-cce239c2856f",
   "metadata": {},
   "source": [
    "#### After the rearrangement procedure completes, what crate ends up on top of each stack?"
   ]
  },
  {
   "cell_type": "code",
   "execution_count": 118,
   "id": "6d415079-5f75-4076-8c65-5a45a1780edb",
   "metadata": {},
   "outputs": [
    {
     "data": {
      "text/plain": [
       "'GFTNRBZPF'"
      ]
     },
     "execution_count": 118,
     "metadata": {},
     "output_type": "execute_result"
    }
   ],
   "source": [
    "def reorder_step(num_move, from_stack, to_stack):\n",
    "    \"\"\"\n",
    "    Takes set of boxes to move from one stack to another\n",
    "    Because boxes are moved one at a time, the order is\n",
    "    reversed before added to new stack\n",
    "    \"\"\"\n",
    "    boxes = from_stack[-num_move:]\n",
    "    boxes.reverse()\n",
    "    from_stack = from_stack[:-num_move]\n",
    "    to_stack.extend(boxes)\n",
    "    return from_stack, to_stack\n",
    "\n",
    "\n",
    "def reorder_stacks(stack_piles, steps):\n",
    "    \"\"\"Reorders pile of boxes according to steps and returns new stack orders\"\"\"\n",
    "    for step in steps:\n",
    "        from_stack, to_stack = reorder_step(step[0], stack_piles.get(step[1]).copy(), stack_piles.get(step[2]).copy())\n",
    "        stack_piles[step[1]] = from_stack\n",
    "        stack_piles[step[2]] = to_stack\n",
    "    return stack_piles\n",
    "\n",
    "reordered_stacks = reorder_stacks(stack_piles.copy(), parsed_steps)\n",
    "''.join(list(v)[-1] for v in reordered_stacks.values())"
   ]
  },
  {
   "cell_type": "markdown",
   "id": "168d3ac0-7db2-46b9-8532-ed3499561109",
   "metadata": {},
   "source": [
    "The CrateMover 9001 is notable for many new and exciting features: air conditioning, leather seats, an extra cup holder, and the ability to pick up and move multiple crates at once.\n",
    "\n",
    "#### After the rearrangement procedure completes, what crate ends up on top of each stack?"
   ]
  },
  {
   "cell_type": "code",
   "execution_count": 125,
   "id": "97cf259b-f22e-4b15-8b18-bb89a18d46b9",
   "metadata": {},
   "outputs": [],
   "source": [
    "def reorder_step_2(num_move, from_stack, to_stack):\n",
    "    \"\"\"\n",
    "    Takes set of boxes to move from one stack to another\n",
    "    Because boxes are moved as a set, order of boxes is\n",
    "    no longer reversed\n",
    "    \"\"\"\n",
    "    boxes = from_stack[-num_move:]\n",
    "    from_stack = from_stack[:-num_move]\n",
    "    to_stack.extend(boxes)\n",
    "    return from_stack, to_stack\n",
    "\n",
    "\n",
    "def reorder_stacks_2(stack_piles, steps):\n",
    "    \"\"\"Reorders pile of boxes according to steps and returns new stack orders\"\"\"\n",
    "    for step in steps:\n",
    "        from_stack, to_stack = reorder_step_2(step[0], stack_piles.get(step[1]).copy(), stack_piles.get(step[2]).copy())\n",
    "        stack_piles[step[1]] = from_stack\n",
    "        stack_piles[step[2]] = to_stack\n",
    "    return stack_piles"
   ]
  },
  {
   "cell_type": "code",
   "execution_count": 126,
   "id": "42683422-be3d-44b2-a84a-ef9df743a2a2",
   "metadata": {},
   "outputs": [
    {
     "data": {
      "text/plain": [
       "'VRQWPDSGP'"
      ]
     },
     "execution_count": 126,
     "metadata": {},
     "output_type": "execute_result"
    }
   ],
   "source": [
    "reordered_stacks_2 = reorder_stacks_2(stack_piles.copy(), parsed_steps)\n",
    "''.join(list(v)[-1] for v in reordered_stacks_2.values())"
   ]
  },
  {
   "cell_type": "markdown",
   "id": "a1cc59f6-a529-4805-b5cf-d9fc7860bef3",
   "metadata": {},
   "source": [
    "# Day 6\n",
    "How many characters need to be processed before the first start-of-packet marker is detected?"
   ]
  },
  {
   "cell_type": "code",
   "execution_count": 128,
   "id": "f0da17f9-2905-4cdc-9fef-7d7eaf61b8c4",
   "metadata": {},
   "outputs": [
    {
     "data": {
      "text/plain": [
       "'rgffb'"
      ]
     },
     "execution_count": 128,
     "metadata": {},
     "output_type": "execute_result"
    }
   ],
   "source": [
    "with open('aoc_22_d6.txt') as f:\n",
    "    packet = f.read()\n",
    "packet[:5]"
   ]
  },
  {
   "cell_type": "code",
   "execution_count": 152,
   "id": "e855fabf-4169-45f9-92ab-54c6cf5ce0ff",
   "metadata": {},
   "outputs": [
    {
     "data": {
      "text/plain": [
       "(1099, 'mbnz')"
      ]
     },
     "execution_count": 152,
     "metadata": {},
     "output_type": "execute_result"
    }
   ],
   "source": [
    "def identify_marker(packet, size):\n",
    "    \"\"\"\n",
    "    Collects a long string and identifies at which character \n",
    "    the start of packet marker is detected (4 consecutive \n",
    "    different letters) and the 4 letters identified\n",
    "    \"\"\"\n",
    "    chain_4 = ''\n",
    "    for idx, char in enumerate(packet):\n",
    "        if len(chain) < size:\n",
    "            chain += char\n",
    "        else:\n",
    "            chain = chain[1:] + char\n",
    "        if len(set(chain)) == size:\n",
    "            break\n",
    "    return idx, chain\n",
    "\n",
    "identify_packet_marker(packet, 4)\n",
    "# 1099 + 1"
   ]
  },
  {
   "cell_type": "code",
   "execution_count": 153,
   "id": "9bc5c416-0026-4409-b5de-8bcb2b26cfba",
   "metadata": {},
   "outputs": [
    {
     "data": {
      "text/plain": [
       "(2420, 'cmwlnbzqjsgftr')"
      ]
     },
     "execution_count": 153,
     "metadata": {},
     "output_type": "execute_result"
    }
   ],
   "source": [
    "identify_marker(packet)\n",
    "#2420 + 1"
   ]
  }
 ],
 "metadata": {
  "kernelspec": {
   "display_name": "Python 3 (ipykernel)",
   "language": "python",
   "name": "python3"
  },
  "language_info": {
   "codemirror_mode": {
    "name": "ipython",
    "version": 3
   },
   "file_extension": ".py",
   "mimetype": "text/x-python",
   "name": "python",
   "nbconvert_exporter": "python",
   "pygments_lexer": "ipython3",
   "version": "3.9.7"
  }
 },
 "nbformat": 4,
 "nbformat_minor": 5
}
